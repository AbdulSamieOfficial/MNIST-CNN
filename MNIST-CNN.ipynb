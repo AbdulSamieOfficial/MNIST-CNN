{
  "cells": [
    {
      "cell_type": "code",
      "execution_count": 71,
      "metadata": {
        "id": "bpByMXXFMaeb"
      },
      "outputs": [],
      "source": [
        "import torch\n",
        "import torchvision"
      ]
    },
    {
      "cell_type": "code",
      "execution_count": 111,
      "metadata": {
        "colab": {
          "base_uri": "https://localhost:8080/"
        },
        "id": "QzkOteeMMaee",
        "outputId": "80f72259-5374-4a56-8c45-fdd3b724bb6b"
      },
      "outputs": [
        {
          "output_type": "execute_result",
          "data": {
            "text/plain": [
              "<torch._C.Generator at 0x7fded34736d0>"
            ]
          },
          "metadata": {},
          "execution_count": 111
        }
      ],
      "source": [
        "n_epochs = 3\n",
        "batch_size_train = 64\n",
        "batch_size_test = 1000\n",
        "learning_rate = 0.01\n",
        "momentum = 0.5\n",
        "log_interval = 10\n",
        "\n",
        "random_seed = 1\n",
        "torch.backends.cudnn.enabled = False\n",
        "torch.manual_seed(random_seed)"
      ]
    },
    {
      "cell_type": "markdown",
      "metadata": {
        "id": "Lo7g7dgvMaef"
      },
      "source": [
        "Now we'll also need DataLoaders for the dataset. This is where TorchVision comes into play. It let's use load the MNIST dataset in a handy way. We'll use a batch_size of 64 for training and size 1000 for testing on this dataset. The values 0.1307 and 0.3081 used for the Normalize() transformation below are the global mean and standard deviation of the MNIST dataset, we'll take them as a given here.\n",
        "\n",
        "TorchVision offers a lot of handy transformations, such as cropping or normalization."
      ]
    },
    {
      "cell_type": "code",
      "execution_count": 112,
      "metadata": {
        "id": "9EBMlGynMaeg"
      },
      "outputs": [],
      "source": [
        "train_loader = torch.utils.data.DataLoader(\n",
        "  torchvision.datasets.MNIST('/files/', train=True, download=True,\n",
        "                             transform=torchvision.transforms.Compose([\n",
        "                               torchvision.transforms.ToTensor(),\n",
        "                               torchvision.transforms.Normalize(\n",
        "                                 (0.1307,), (0.3081,))\n",
        "                             ])),\n",
        "  batch_size=batch_size_train, shuffle=True)\n",
        "\n",
        "test_loader = torch.utils.data.DataLoader(\n",
        "  torchvision.datasets.MNIST('/files/', train=False, download=True,\n",
        "                             transform=torchvision.transforms.Compose([\n",
        "                               torchvision.transforms.ToTensor(),\n",
        "                               torchvision.transforms.Normalize(\n",
        "                                 (0.1307,), (0.3081,))\n",
        "                             ])),\n",
        "  batch_size=batch_size_test, shuffle=True)"
      ]
    },
    {
      "cell_type": "code",
      "execution_count": 113,
      "metadata": {
        "colab": {
          "base_uri": "https://localhost:8080/"
        },
        "id": "lIgMtkS4Maeh",
        "outputId": "70163017-6080-4f68-ccd7-02ad3ae494e9"
      },
      "outputs": [
        {
          "output_type": "execute_result",
          "data": {
            "text/plain": [
              "torch.Size([1000, 1, 28, 28])"
            ]
          },
          "metadata": {},
          "execution_count": 113
        }
      ],
      "source": [
        "# Now let's take a look at some examples. We'll use the test_loader for this.\n",
        "examples = enumerate(test_loader)\n",
        "batch_idx, (example_data, example_targets) = next(examples)\n",
        "example_data.shape\n",
        "\n",
        "# example_targets.shape"
      ]
    },
    {
      "cell_type": "code",
      "execution_count": 114,
      "metadata": {
        "colab": {
          "base_uri": "https://localhost:8080/",
          "height": 551
        },
        "id": "iOA-4t8pMaeh",
        "outputId": "2a66eca6-c9d0-43c7-efef-9f9d799b84ba"
      },
      "outputs": [
        {
          "output_type": "execute_result",
          "data": {
            "text/plain": [
              "<Figure size 432x288 with 6 Axes>"
            ],
            "image/png": "[encoded data removed]"
          },
          "metadata": {},
          "execution_count": 114
        },
        {
          "output_type": "display_data",
          "data": {
            "text/plain": [
              "<Figure size 432x288 with 6 Axes>"
            ],
            "image/png": "[encoded data removed]"
          },
          "metadata": {}
        }
      ],
      "source": [
        "import matplotlib.pyplot as plt\n",
        "\n",
        "fig = plt.figure()\n",
        "for i in range(6):\n",
        "  plt.subplot(2,3,i+1)\n",
        "  plt.tight_layout()\n",
        "  plt.imshow(example_data[i][0], cmap='gray', interpolation='none')\n",
        "  plt.title(\"Ground Truth: {}\".format(example_targets[i]))\n",
        "  plt.xticks([])\n",
        "  plt.yticks([])\n",
        "fig"
      ]
    },
    {
      "cell_type": "markdown",
      "metadata": {
        "id": "2QmRHNjIMaei"
      },
      "source": [
        "Building the Network\n",
        "\n",
        "Now let's go ahead and build our network. We'll use two 2-D convolutional layers followed by two fully-connected (or linear) layers. As activation function we'll choose rectified linear units (ReLUs in short) and as a means of regularization we'll use two dropout layers. In PyTorch a nice way to build a network is by creating a new class for the network we wish to build. Let's import a few submodules here for more readable code."
      ]
    },
    {
      "cell_type": "code",
      "execution_count": 115,
      "metadata": {
        "id": "F5pTGIfbMaei"
      },
      "outputs": [],
      "source": [
        "import torch.nn as nn\n",
        "import torch.nn.functional as F\n",
        "import torch.optim as optim"
      ]
    },
    {
      "cell_type": "code",
      "execution_count": 116,
      "metadata": {
        "id": "q0LnmpCHMaej"
      },
      "outputs": [],
      "source": [
        "class Net(nn.Module):\n",
        "    def __init__(self):\n",
        "        super(Net, self).__init__()\n",
        "        self.conv1 = nn.Conv2d(1, 10, kernel_size=5)\n",
        "        self.conv2 = nn.Conv2d(10, 20, kernel_size=5)\n",
        "        self.conv2_drop = nn.Dropout2d()\n",
        "        self.fc1 = nn.Linear(320, 50)\n",
        "        self.fc2 = nn.Linear(50, 10)\n",
        "\n",
        "    def forward(self, x):\n",
        "        x = F.relu(F.max_pool2d(self.conv1(x), 2))\n",
        "        x = F.relu(F.max_pool2d(self.conv2_drop(self.conv2(x)), 2))\n",
        "        x = x.view(-1, 320)\n",
        "        x = F.relu(self.fc1(x))\n",
        "        x = F.dropout(x, training=self.training)\n",
        "        x = self.fc2(x)\n",
        "        return F.log_softmax(x)"
      ]
    },
    {
      "cell_type": "code",
      "execution_count": 117,
      "metadata": {
        "id": "oKGl5uI-Maej"
      },
      "outputs": [],
      "source": [
        "network = Net()\n",
        "optimizer = optim.SGD(network.parameters(), lr=learning_rate,\n",
        "                      momentum=momentum)"
      ]
    },
    {
      "cell_type": "code",
      "execution_count": 118,
      "metadata": {
        "id": "dyDQc0w5Maej"
      },
      "outputs": [],
      "source": [
        "train_losses = []\n",
        "train_counter = []\n",
        "test_losses = []\n",
        "test_counter = [i*len(train_loader.dataset) for i in range(n_epochs + 1)]"
      ]
    },
    {
      "cell_type": "markdown",
      "metadata": {
        "id": "hVoPzrNSMaek"
      },
      "source": [
        "We'll run our test loop once before even starting the training to see what accuracy/loss we achieve just with randomly initialized network parameters. Can you guess what our accuracy might look like for this case?"
      ]
    },
    {
      "cell_type": "code",
      "execution_count": 119,
      "metadata": {
        "id": "i8qAXu2tMaek"
      },
      "outputs": [],
      "source": [
        "def train(epoch):\n",
        "  network.train()\n",
        "  for batch_idx, (data, target) in enumerate(train_loader):\n",
        "    optimizer.zero_grad()\n",
        "    output = network(data)\n",
        "    loss = F.nll_loss(output, target)\n",
        "    loss.backward()\n",
        "    optimizer.step()\n",
        "    if batch_idx % log_interval == 0:\n",
        "      print('Train Epoch: {} [{}/{} ({:.0f}%)]\\tLoss: {:.6f}'.format(\n",
        "        epoch, batch_idx * len(data), len(train_loader.dataset),\n",
        "        100. * batch_idx / len(train_loader), loss.item()))\n",
        "      train_losses.append(loss.item())\n",
        "      train_counter.append(\n",
        "        (batch_idx*64) + ((epoch-1)*len(train_loader.dataset)))\n",
        "      torch.save(network.state_dict(), 'model.pth')\n",
        "      torch.save(optimizer.state_dict(), 'optimizer.pth')"
      ]
    },
    {
      "cell_type": "markdown",
      "metadata": {
        "id": "4jzLZj6JMaek"
      },
      "source": [
        "Neural network modules as well as optimizers have the ability to save and load their internal state using .state_dict(). With this we can continue training from previously saved state dicts if needed - we'd just need to call .load_state_dict(state_dict). \n",
        "\n",
        "Now for our test loop. Here we sum up the test loss and keep track of correctly classified digits to compute the accuracy of the network. "
      ]
    },
    {
      "cell_type": "code",
      "source": [
        "def test():\n",
        "  network.eval()\n",
        "  test_loss = 0\n",
        "  correct = 0\n",
        "  with torch.no_grad():\n",
        "    for data, target in test_loader:\n",
        "      output = network(data)\n",
        "      test_loss += F.nll_loss(output, target, size_average=False).item()\n",
        "      pred = output.data.max(1, keepdim=True)[1]\n",
        "      correct += pred.eq(target.data.view_as(pred)).sum()\n",
        "  test_loss /= len(test_loader.dataset)\n",
        "  test_losses.append(test_loss)\n",
        "  print('\\nTest set: Avg. loss: {:.4f}, Accuracy: {}/{} ({:.0f}%)\\n'.format(\n",
        "    test_loss, correct, len(test_loader.dataset),\n",
        "    100. * correct / len(test_loader.dataset)))"
      ],
      "metadata": {
        "id": "lZ7OBmxzYe4R"
      },
      "execution_count": 120,
      "outputs": []
    },
    {
      "cell_type": "markdown",
      "metadata": {
        "id": "fhirwZ0fMaek"
      },
      "source": [
        "Using the context manager no_grad() we can avoid storing the computations done producing the output of our network in the computation graph.\n",
        "\n",
        "Time to run the training! We'll manually add a test() call before we loop over n_epochs to evaluate our model with randomly initialized parameters."
      ]
    },
    {
      "cell_type": "code",
      "execution_count": 121,
      "metadata": {
        "colab": {
          "base_uri": "https://localhost:8080/"
        },
        "id": "uJmuyj8mMael",
        "outputId": "a9dfc5a6-17a9-4a57-cab1-57ca70d216de"
      },
      "outputs": [
        {
          "output_type": "stream",
          "name": "stderr",
          "text": [
            "<ipython-input-116-6c2218f37724>:17: UserWarning: Implicit dimension choice for log_softmax has been deprecated. Change the call to include dim=X as an argument.\n",
            "  return F.log_softmax(x)\n",
            "/usr/local/lib/python3.8/dist-packages/torch/nn/_reduction.py:42: UserWarning: size_average and reduce args will be deprecated, please use reduction='sum' instead.\n",
            "  warnings.warn(warning.format(ret))\n"
          ]
        },
        {
          "output_type": "stream",
          "name": "stdout",
          "text": [
            "\n",
            "Test set: Avg. loss: 2.3096, Accuracy: 924/10000 (9%)\n",
            "\n",
            "Train Epoch: 1 [0/60000 (0%)]\tLoss: 2.313179\n",
            "Train Epoch: 1 [640/60000 (1%)]\tLoss: 2.300776\n",
            "Train Epoch: 1 [1280/60000 (2%)]\tLoss: 2.298872\n",
            "Train Epoch: 1 [1920/60000 (3%)]\tLoss: 2.276723\n",
            "Train Epoch: 1 [2560/60000 (4%)]\tLoss: 2.241102\n",
            "Train Epoch: 1 [3200/60000 (5%)]\tLoss: 2.248662\n",
            "Train Epoch: 1 [3840/60000 (6%)]\tLoss: 2.189547\n",
            "Train Epoch: 1 [4480/60000 (7%)]\tLoss: 2.146399\n",
            "Train Epoch: 1 [5120/60000 (9%)]\tLoss: 2.107701\n",
            "Train Epoch: 1 [5760/60000 (10%)]\tLoss: 2.011356\n",
            "Train Epoch: 1 [6400/60000 (11%)]\tLoss: 1.843857\n",
            "Train Epoch: 1 [7040/60000 (12%)]\tLoss: 1.758839\n",
            "Train Epoch: 1 [7680/60000 (13%)]\tLoss: 1.672644\n",
            "Train Epoch: 1 [8320/60000 (14%)]\tLoss: 1.687645\n",
            "Train Epoch: 1 [8960/60000 (15%)]\tLoss: 1.426628\n",
            "Train Epoch: 1 [9600/60000 (16%)]\tLoss: 1.284204\n",
            "Train Epoch: 1 [10240/60000 (17%)]\tLoss: 1.318824\n",
            "Train Epoch: 1 [10880/60000 (18%)]\tLoss: 1.445287\n",
            "Train Epoch: 1 [11520/60000 (19%)]\tLoss: 1.140658\n",
            "Train Epoch: 1 [12160/60000 (20%)]\tLoss: 1.152956\n",
            "Train Epoch: 1 [12800/60000 (21%)]\tLoss: 1.053577\n",
            "Train Epoch: 1 [13440/60000 (22%)]\tLoss: 0.899838\n",
            "Train Epoch: 1 [14080/60000 (23%)]\tLoss: 1.192381\n",
            "Train Epoch: 1 [14720/60000 (25%)]\tLoss: 0.947141\n",
            "Train Epoch: 1 [15360/60000 (26%)]\tLoss: 0.874856\n",
            "Train Epoch: 1 [16000/60000 (27%)]\tLoss: 0.848544\n",
            "Train Epoch: 1 [16640/60000 (28%)]\tLoss: 0.771893\n",
            "Train Epoch: 1 [17280/60000 (29%)]\tLoss: 0.764048\n",
            "Train Epoch: 1 [17920/60000 (30%)]\tLoss: 0.805497\n",
            "Train Epoch: 1 [18560/60000 (31%)]\tLoss: 0.891861\n",
            "Train Epoch: 1 [19200/60000 (32%)]\tLoss: 0.795640\n",
            "Train Epoch: 1 [19840/60000 (33%)]\tLoss: 0.910627\n",
            "Train Epoch: 1 [20480/60000 (34%)]\tLoss: 0.582403\n",
            "Train Epoch: 1 [21120/60000 (35%)]\tLoss: 0.694939\n",
            "Train Epoch: 1 [21760/60000 (36%)]\tLoss: 0.619523\n",
            "Train Epoch: 1 [22400/60000 (37%)]\tLoss: 0.766233\n",
            "Train Epoch: 1 [23040/60000 (38%)]\tLoss: 0.715024\n",
            "Train Epoch: 1 [23680/60000 (39%)]\tLoss: 0.632636\n",
            "Train Epoch: 1 [24320/60000 (41%)]\tLoss: 0.665659\n",
            "Train Epoch: 1 [24960/60000 (42%)]\tLoss: 0.840592\n",
            "Train Epoch: 1 [25600/60000 (43%)]\tLoss: 0.855430\n",
            "Train Epoch: 1 [26240/60000 (44%)]\tLoss: 0.620044\n",
            "Train Epoch: 1 [26880/60000 (45%)]\tLoss: 0.630453\n",
            "Train Epoch: 1 [27520/60000 (46%)]\tLoss: 0.687899\n",
            "Train Epoch: 1 [28160/60000 (47%)]\tLoss: 0.587980\n",
            "Train Epoch: 1 [28800/60000 (48%)]\tLoss: 0.547443\n",
            "Train Epoch: 1 [29440/60000 (49%)]\tLoss: 0.833101\n",
            "Train Epoch: 1 [30080/60000 (50%)]\tLoss: 0.739253\n",
            "Train Epoch: 1 [30720/60000 (51%)]\tLoss: 0.632813\n",
            "Train Epoch: 1 [31360/60000 (52%)]\tLoss: 0.645520\n",
            "Train Epoch: 1 [32000/60000 (53%)]\tLoss: 0.711381\n",
            "Train Epoch: 1 [32640/60000 (54%)]\tLoss: 0.442862\n",
            "Train Epoch: 1 [33280/60000 (55%)]\tLoss: 0.587712\n",
            "Train Epoch: 1 [33920/60000 (57%)]\tLoss: 0.578383\n",
            "Train Epoch: 1 [34560/60000 (58%)]\tLoss: 0.660845\n",
            "Train Epoch: 1 [35200/60000 (59%)]\tLoss: 0.572868\n",
            "Train Epoch: 1 [35840/60000 (60%)]\tLoss: 0.561340\n",
            "Train Epoch: 1 [36480/60000 (61%)]\tLoss: 0.625357\n",
            "Train Epoch: 1 [37120/60000 (62%)]\tLoss: 0.804709\n",
            "Train Epoch: 1 [37760/60000 (63%)]\tLoss: 0.573517\n",
            "Train Epoch: 1 [38400/60000 (64%)]\tLoss: 0.627215\n",
            "Train Epoch: 1 [39040/60000 (65%)]\tLoss: 0.542886\n",
            "Train Epoch: 1 [39680/60000 (66%)]\tLoss: 0.624287\n",
            "Train Epoch: 1 [40320/60000 (67%)]\tLoss: 0.321710\n",
            "Train Epoch: 1 [40960/60000 (68%)]\tLoss: 0.334854\n",
            "Train Epoch: 1 [41600/60000 (69%)]\tLoss: 0.370195\n",
            "Train Epoch: 1 [42240/60000 (70%)]\tLoss: 0.298404\n",
            "Train Epoch: 1 [42880/60000 (71%)]\tLoss: 0.416613\n",
            "Train Epoch: 1 [43520/60000 (72%)]\tLoss: 0.435990\n",
            "Train Epoch: 1 [44160/60000 (74%)]\tLoss: 0.456119\n",
            "Train Epoch: 1 [44800/60000 (75%)]\tLoss: 0.603510\n",
            "Train Epoch: 1 [45440/60000 (76%)]\tLoss: 0.542217\n",
            "Train Epoch: 1 [46080/60000 (77%)]\tLoss: 0.513738\n",
            "Train Epoch: 1 [46720/60000 (78%)]\tLoss: 0.382140\n",
            "Train Epoch: 1 [47360/60000 (79%)]\tLoss: 0.494563\n",
            "Train Epoch: 1 [48000/60000 (80%)]\tLoss: 0.564413\n",
            "Train Epoch: 1 [48640/60000 (81%)]\tLoss: 0.418105\n",
            "Train Epoch: 1 [49280/60000 (82%)]\tLoss: 0.396056\n",
            "Train Epoch: 1 [49920/60000 (83%)]\tLoss: 0.522512\n",
            "Train Epoch: 1 [50560/60000 (84%)]\tLoss: 0.433615\n",
            "Train Epoch: 1 [51200/60000 (85%)]\tLoss: 0.693981\n",
            "Train Epoch: 1 [51840/60000 (86%)]\tLoss: 0.496433\n",
            "Train Epoch: 1 [52480/60000 (87%)]\tLoss: 0.685087\n",
            "Train Epoch: 1 [53120/60000 (88%)]\tLoss: 0.548807\n",
            "Train Epoch: 1 [53760/60000 (90%)]\tLoss: 0.549538\n",
            "Train Epoch: 1 [54400/60000 (91%)]\tLoss: 0.637669\n",
            "Train Epoch: 1 [55040/60000 (92%)]\tLoss: 0.435730\n",
            "Train Epoch: 1 [55680/60000 (93%)]\tLoss: 0.572531\n",
            "Train Epoch: 1 [56320/60000 (94%)]\tLoss: 0.552861\n",
            "Train Epoch: 1 [56960/60000 (95%)]\tLoss: 0.355976\n",
            "Train Epoch: 1 [57600/60000 (96%)]\tLoss: 0.314897\n",
            "Train Epoch: 1 [58240/60000 (97%)]\tLoss: 0.303762\n",
            "Train Epoch: 1 [58880/60000 (98%)]\tLoss: 0.714218\n",
            "Train Epoch: 1 [59520/60000 (99%)]\tLoss: 0.379120\n",
            "\n",
            "Test set: Avg. loss: 0.1858, Accuracy: 9441/10000 (94%)\n",
            "\n",
            "Train Epoch: 2 [0/60000 (0%)]\tLoss: 0.435907\n",
            "Train Epoch: 2 [640/60000 (1%)]\tLoss: 0.463452\n",
            "Train Epoch: 2 [1280/60000 (2%)]\tLoss: 0.489064\n",
            "Train Epoch: 2 [1920/60000 (3%)]\tLoss: 0.509997\n",
            "Train Epoch: 2 [2560/60000 (4%)]\tLoss: 0.311405\n",
            "Train Epoch: 2 [3200/60000 (5%)]\tLoss: 0.171690\n",
            "Train Epoch: 2 [3840/60000 (6%)]\tLoss: 0.490224\n",
            "Train Epoch: 2 [4480/60000 (7%)]\tLoss: 0.411342\n",
            "Train Epoch: 2 [5120/60000 (9%)]\tLoss: 0.389341\n",
            "Train Epoch: 2 [5760/60000 (10%)]\tLoss: 0.651532\n",
            "Train Epoch: 2 [6400/60000 (11%)]\tLoss: 0.559480\n",
            "Train Epoch: 2 [7040/60000 (12%)]\tLoss: 0.309585\n",
            "Train Epoch: 2 [7680/60000 (13%)]\tLoss: 0.441011\n",
            "Train Epoch: 2 [8320/60000 (14%)]\tLoss: 0.644365\n",
            "Train Epoch: 2 [8960/60000 (15%)]\tLoss: 0.491778\n",
            "Train Epoch: 2 [9600/60000 (16%)]\tLoss: 0.444922\n",
            "Train Epoch: 2 [10240/60000 (17%)]\tLoss: 0.303118\n",
            "Train Epoch: 2 [10880/60000 (18%)]\tLoss: 0.502855\n",
            "Train Epoch: 2 [11520/60000 (19%)]\tLoss: 0.316975\n",
            "Train Epoch: 2 [12160/60000 (20%)]\tLoss: 0.316043\n",
            "Train Epoch: 2 [12800/60000 (21%)]\tLoss: 0.477816\n",
            "Train Epoch: 2 [13440/60000 (22%)]\tLoss: 0.467411\n",
            "Train Epoch: 2 [14080/60000 (23%)]\tLoss: 0.486200\n",
            "Train Epoch: 2 [14720/60000 (25%)]\tLoss: 0.394372\n",
            "Train Epoch: 2 [15360/60000 (26%)]\tLoss: 0.210008\n",
            "Train Epoch: 2 [16000/60000 (27%)]\tLoss: 0.250558\n",
            "Train Epoch: 2 [16640/60000 (28%)]\tLoss: 0.361855\n",
            "Train Epoch: 2 [17280/60000 (29%)]\tLoss: 0.419768\n",
            "Train Epoch: 2 [17920/60000 (30%)]\tLoss: 0.317194\n",
            "Train Epoch: 2 [18560/60000 (31%)]\tLoss: 0.336287\n",
            "Train Epoch: 2 [19200/60000 (32%)]\tLoss: 0.509403\n",
            "Train Epoch: 2 [19840/60000 (33%)]\tLoss: 0.332923\n",
            "Train Epoch: 2 [20480/60000 (34%)]\tLoss: 0.369415\n",
            "Train Epoch: 2 [21120/60000 (35%)]\tLoss: 0.351588\n",
            "Train Epoch: 2 [21760/60000 (36%)]\tLoss: 0.491829\n",
            "Train Epoch: 2 [22400/60000 (37%)]\tLoss: 0.610246\n",
            "Train Epoch: 2 [23040/60000 (38%)]\tLoss: 0.499414\n",
            "Train Epoch: 2 [23680/60000 (39%)]\tLoss: 0.349369\n",
            "Train Epoch: 2 [24320/60000 (41%)]\tLoss: 0.396015\n",
            "Train Epoch: 2 [24960/60000 (42%)]\tLoss: 0.208461\n",
            "Train Epoch: 2 [25600/60000 (43%)]\tLoss: 0.202065\n",
            "Train Epoch: 2 [26240/60000 (44%)]\tLoss: 0.385299\n",
            "Train Epoch: 2 [26880/60000 (45%)]\tLoss: 0.306829\n",
            "Train Epoch: 2 [27520/60000 (46%)]\tLoss: 0.229547\n",
            "Train Epoch: 2 [28160/60000 (47%)]\tLoss: 0.178886\n",
            "Train Epoch: 2 [28800/60000 (48%)]\tLoss: 0.261921\n",
            "Train Epoch: 2 [29440/60000 (49%)]\tLoss: 0.524250\n",
            "Train Epoch: 2 [30080/60000 (50%)]\tLoss: 0.298927\n",
            "Train Epoch: 2 [30720/60000 (51%)]\tLoss: 0.309273\n",
            "Train Epoch: 2 [31360/60000 (52%)]\tLoss: 0.451295\n",
            "Train Epoch: 2 [32000/60000 (53%)]\tLoss: 0.673167\n",
            "Train Epoch: 2 [32640/60000 (54%)]\tLoss: 0.298567\n",
            "Train Epoch: 2 [33280/60000 (55%)]\tLoss: 0.260953\n",
            "Train Epoch: 2 [33920/60000 (57%)]\tLoss: 0.438294\n",
            "Train Epoch: 2 [34560/60000 (58%)]\tLoss: 0.402113\n",
            "Train Epoch: 2 [35200/60000 (59%)]\tLoss: 0.448651\n",
            "Train Epoch: 2 [35840/60000 (60%)]\tLoss: 0.472767\n",
            "Train Epoch: 2 [36480/60000 (61%)]\tLoss: 0.345113\n",
            "Train Epoch: 2 [37120/60000 (62%)]\tLoss: 0.489204\n",
            "Train Epoch: 2 [37760/60000 (63%)]\tLoss: 0.436532\n",
            "Train Epoch: 2 [38400/60000 (64%)]\tLoss: 0.274199\n",
            "Train Epoch: 2 [39040/60000 (65%)]\tLoss: 0.198072\n",
            "Train Epoch: 2 [39680/60000 (66%)]\tLoss: 0.420556\n",
            "Train Epoch: 2 [40320/60000 (67%)]\tLoss: 0.198893\n",
            "Train Epoch: 2 [40960/60000 (68%)]\tLoss: 0.490928\n",
            "Train Epoch: 2 [41600/60000 (69%)]\tLoss: 0.137998\n",
            "Train Epoch: 2 [42240/60000 (70%)]\tLoss: 0.354299\n",
            "Train Epoch: 2 [42880/60000 (71%)]\tLoss: 0.465347\n",
            "Train Epoch: 2 [43520/60000 (72%)]\tLoss: 0.298149\n",
            "Train Epoch: 2 [44160/60000 (74%)]\tLoss: 0.413923\n",
            "Train Epoch: 2 [44800/60000 (75%)]\tLoss: 0.231329\n",
            "Train Epoch: 2 [45440/60000 (76%)]\tLoss: 0.491454\n",
            "Train Epoch: 2 [46080/60000 (77%)]\tLoss: 0.303635\n",
            "Train Epoch: 2 [46720/60000 (78%)]\tLoss: 0.276370\n",
            "Train Epoch: 2 [47360/60000 (79%)]\tLoss: 0.198157\n",
            "Train Epoch: 2 [48000/60000 (80%)]\tLoss: 0.258256\n",
            "Train Epoch: 2 [48640/60000 (81%)]\tLoss: 0.365647\n",
            "Train Epoch: 2 [49280/60000 (82%)]\tLoss: 0.419292\n",
            "Train Epoch: 2 [49920/60000 (83%)]\tLoss: 0.285699\n",
            "Train Epoch: 2 [50560/60000 (84%)]\tLoss: 0.322500\n",
            "Train Epoch: 2 [51200/60000 (85%)]\tLoss: 0.464379\n",
            "Train Epoch: 2 [51840/60000 (86%)]\tLoss: 0.308768\n",
            "Train Epoch: 2 [52480/60000 (87%)]\tLoss: 0.338745\n",
            "Train Epoch: 2 [53120/60000 (88%)]\tLoss: 0.263213\n",
            "Train Epoch: 2 [53760/60000 (90%)]\tLoss: 0.241893\n",
            "Train Epoch: 2 [54400/60000 (91%)]\tLoss: 0.191008\n",
            "Train Epoch: 2 [55040/60000 (92%)]\tLoss: 0.481411\n",
            "Train Epoch: 2 [55680/60000 (93%)]\tLoss: 0.182932\n",
            "Train Epoch: 2 [56320/60000 (94%)]\tLoss: 0.372981\n",
            "Train Epoch: 2 [56960/60000 (95%)]\tLoss: 0.215831\n",
            "Train Epoch: 2 [57600/60000 (96%)]\tLoss: 0.546750\n",
            "Train Epoch: 2 [58240/60000 (97%)]\tLoss: 0.472367\n",
            "Train Epoch: 2 [58880/60000 (98%)]\tLoss: 0.266250\n",
            "Train Epoch: 2 [59520/60000 (99%)]\tLoss: 0.284785\n",
            "\n",
            "Test set: Avg. loss: 0.1159, Accuracy: 9630/10000 (96%)\n",
            "\n",
            "Train Epoch: 3 [0/60000 (0%)]\tLoss: 0.214468\n",
            "Train Epoch: 3 [640/60000 (1%)]\tLoss: 0.242486\n",
            "Train Epoch: 3 [1280/60000 (2%)]\tLoss: 0.384630\n",
            "Train Epoch: 3 [1920/60000 (3%)]\tLoss: 0.265105\n",
            "Train Epoch: 3 [2560/60000 (4%)]\tLoss: 0.263366\n",
            "Train Epoch: 3 [3200/60000 (5%)]\tLoss: 0.327536\n",
            "Train Epoch: 3 [3840/60000 (6%)]\tLoss: 0.263844\n",
            "Train Epoch: 3 [4480/60000 (7%)]\tLoss: 0.474794\n",
            "Train Epoch: 3 [5120/60000 (9%)]\tLoss: 0.506521\n",
            "Train Epoch: 3 [5760/60000 (10%)]\tLoss: 0.407048\n",
            "Train Epoch: 3 [6400/60000 (11%)]\tLoss: 0.325429\n",
            "Train Epoch: 3 [7040/60000 (12%)]\tLoss: 0.345403\n",
            "Train Epoch: 3 [7680/60000 (13%)]\tLoss: 0.253308\n",
            "Train Epoch: 3 [8320/60000 (14%)]\tLoss: 0.164279\n",
            "Train Epoch: 3 [8960/60000 (15%)]\tLoss: 0.262129\n",
            "Train Epoch: 3 [9600/60000 (16%)]\tLoss: 0.232060\n",
            "Train Epoch: 3 [10240/60000 (17%)]\tLoss: 0.278972\n",
            "Train Epoch: 3 [10880/60000 (18%)]\tLoss: 0.286069\n",
            "Train Epoch: 3 [11520/60000 (19%)]\tLoss: 0.444905\n",
            "Train Epoch: 3 [12160/60000 (20%)]\tLoss: 0.226134\n",
            "Train Epoch: 3 [12800/60000 (21%)]\tLoss: 0.478460\n",
            "Train Epoch: 3 [13440/60000 (22%)]\tLoss: 0.331455\n",
            "Train Epoch: 3 [14080/60000 (23%)]\tLoss: 0.345607\n",
            "Train Epoch: 3 [14720/60000 (25%)]\tLoss: 0.321534\n",
            "Train Epoch: 3 [15360/60000 (26%)]\tLoss: 0.316538\n",
            "Train Epoch: 3 [16000/60000 (27%)]\tLoss: 0.816240\n",
            "Train Epoch: 3 [16640/60000 (28%)]\tLoss: 0.530360\n",
            "Train Epoch: 3 [17280/60000 (29%)]\tLoss: 0.437625\n",
            "Train Epoch: 3 [17920/60000 (30%)]\tLoss: 0.303474\n",
            "Train Epoch: 3 [18560/60000 (31%)]\tLoss: 0.308267\n",
            "Train Epoch: 3 [19200/60000 (32%)]\tLoss: 0.348501\n",
            "Train Epoch: 3 [19840/60000 (33%)]\tLoss: 0.369705\n",
            "Train Epoch: 3 [20480/60000 (34%)]\tLoss: 0.188844\n",
            "Train Epoch: 3 [21120/60000 (35%)]\tLoss: 0.168211\n",
            "Train Epoch: 3 [21760/60000 (36%)]\tLoss: 0.331727\n",
            "Train Epoch: 3 [22400/60000 (37%)]\tLoss: 0.242944\n",
            "Train Epoch: 3 [23040/60000 (38%)]\tLoss: 0.434155\n",
            "Train Epoch: 3 [23680/60000 (39%)]\tLoss: 0.215015\n",
            "Train Epoch: 3 [24320/60000 (41%)]\tLoss: 0.253836\n",
            "Train Epoch: 3 [24960/60000 (42%)]\tLoss: 0.166382\n",
            "Train Epoch: 3 [25600/60000 (43%)]\tLoss: 0.420346\n",
            "Train Epoch: 3 [26240/60000 (44%)]\tLoss: 0.206075\n",
            "Train Epoch: 3 [26880/60000 (45%)]\tLoss: 0.194624\n",
            "Train Epoch: 3 [27520/60000 (46%)]\tLoss: 0.212537\n",
            "Train Epoch: 3 [28160/60000 (47%)]\tLoss: 0.333633\n",
            "Train Epoch: 3 [28800/60000 (48%)]\tLoss: 0.473316\n",
            "Train Epoch: 3 [29440/60000 (49%)]\tLoss: 0.158403\n",
            "Train Epoch: 3 [30080/60000 (50%)]\tLoss: 0.261341\n",
            "Train Epoch: 3 [30720/60000 (51%)]\tLoss: 0.236739\n",
            "Train Epoch: 3 [31360/60000 (52%)]\tLoss: 0.225753\n",
            "Train Epoch: 3 [32000/60000 (53%)]\tLoss: 0.457748\n",
            "Train Epoch: 3 [32640/60000 (54%)]\tLoss: 0.321227\n",
            "Train Epoch: 3 [33280/60000 (55%)]\tLoss: 0.179290\n",
            "Train Epoch: 3 [33920/60000 (57%)]\tLoss: 0.454975\n",
            "Train Epoch: 3 [34560/60000 (58%)]\tLoss: 0.243977\n",
            "Train Epoch: 3 [35200/60000 (59%)]\tLoss: 0.328291\n",
            "Train Epoch: 3 [35840/60000 (60%)]\tLoss: 0.465159\n",
            "Train Epoch: 3 [36480/60000 (61%)]\tLoss: 0.175074\n",
            "Train Epoch: 3 [37120/60000 (62%)]\tLoss: 0.213599\n",
            "Train Epoch: 3 [37760/60000 (63%)]\tLoss: 0.298387\n",
            "Train Epoch: 3 [38400/60000 (64%)]\tLoss: 0.442386\n",
            "Train Epoch: 3 [39040/60000 (65%)]\tLoss: 0.346257\n",
            "Train Epoch: 3 [39680/60000 (66%)]\tLoss: 0.194255\n",
            "Train Epoch: 3 [40320/60000 (67%)]\tLoss: 0.236646\n",
            "Train Epoch: 3 [40960/60000 (68%)]\tLoss: 0.431446\n",
            "Train Epoch: 3 [41600/60000 (69%)]\tLoss: 0.331680\n",
            "Train Epoch: 3 [42240/60000 (70%)]\tLoss: 0.387623\n",
            "Train Epoch: 3 [42880/60000 (71%)]\tLoss: 0.180359\n",
            "Train Epoch: 3 [43520/60000 (72%)]\tLoss: 0.233776\n",
            "Train Epoch: 3 [44160/60000 (74%)]\tLoss: 0.290224\n",
            "Train Epoch: 3 [44800/60000 (75%)]\tLoss: 0.179330\n",
            "Train Epoch: 3 [45440/60000 (76%)]\tLoss: 0.238344\n",
            "Train Epoch: 3 [46080/60000 (77%)]\tLoss: 0.338222\n",
            "Train Epoch: 3 [46720/60000 (78%)]\tLoss: 0.193944\n",
            "Train Epoch: 3 [47360/60000 (79%)]\tLoss: 0.381558\n",
            "Train Epoch: 3 [48000/60000 (80%)]\tLoss: 0.331424\n",
            "Train Epoch: 3 [48640/60000 (81%)]\tLoss: 0.215080\n",
            "Train Epoch: 3 [49280/60000 (82%)]\tLoss: 0.236141\n",
            "Train Epoch: 3 [49920/60000 (83%)]\tLoss: 0.490398\n",
            "Train Epoch: 3 [50560/60000 (84%)]\tLoss: 0.402611\n",
            "Train Epoch: 3 [51200/60000 (85%)]\tLoss: 0.426209\n",
            "Train Epoch: 3 [51840/60000 (86%)]\tLoss: 0.244851\n",
            "Train Epoch: 3 [52480/60000 (87%)]\tLoss: 0.475437\n",
            "Train Epoch: 3 [53120/60000 (88%)]\tLoss: 0.238803\n",
            "Train Epoch: 3 [53760/60000 (90%)]\tLoss: 0.178669\n",
            "Train Epoch: 3 [54400/60000 (91%)]\tLoss: 0.407426\n",
            "Train Epoch: 3 [55040/60000 (92%)]\tLoss: 0.316213\n",
            "Train Epoch: 3 [55680/60000 (93%)]\tLoss: 0.160541\n",
            "Train Epoch: 3 [56320/60000 (94%)]\tLoss: 0.299198\n",
            "Train Epoch: 3 [56960/60000 (95%)]\tLoss: 0.335372\n",
            "Train Epoch: 3 [57600/60000 (96%)]\tLoss: 0.487979\n",
            "Train Epoch: 3 [58240/60000 (97%)]\tLoss: 0.385007\n",
            "Train Epoch: 3 [58880/60000 (98%)]\tLoss: 0.117288\n",
            "Train Epoch: 3 [59520/60000 (99%)]\tLoss: 0.302287\n",
            "\n",
            "Test set: Avg. loss: 0.0990, Accuracy: 9682/10000 (97%)\n",
            "\n"
          ]
        }
      ],
      "source": [
        "test()\n",
        "for epoch in range(1, n_epochs + 1):\n",
        "  train(epoch)\n",
        "  test()\n"
      ]
    },
    {
      "cell_type": "markdown",
      "metadata": {
        "id": "LkrpXodSMael"
      },
      "source": [
        "Evaluating the Model's Performance\n",
        "\n",
        "And that's it. With just 3 epochs of training we already managed to achieve 97% accuracy on the test set! We started out with randomly initialized parameters and as expected only got about 10% accuracy on the test set before starting the training.\n",
        "\n",
        "Let's plot our training curve."
      ]
    },
    {
      "cell_type": "code",
      "source": [
        "fig = plt.figure()\n",
        "plt.plot(train_counter, train_losses, color='blue')\n",
        "plt.scatter(test_counter, test_losses, color='red')\n",
        "plt.legend(['Train Loss', 'Test Loss'], loc='upper right')\n",
        "plt.xlabel('number of training examples seen')\n",
        "plt.ylabel('negative log likelihood loss')\n",
        "fig"
      ],
      "metadata": {
        "colab": {
          "base_uri": "https://localhost:8080/",
          "height": 541
        },
        "id": "cVlV_qysX3R_",
        "outputId": "8ae6affd-8f91-4885-ef52-b9f14e65334e"
      },
      "execution_count": 122,
      "outputs": [
        {
          "output_type": "execute_result",
          "data": {
            "text/plain": [
              "<Figure size 432x288 with 1 Axes>"
            ],
            "image/png": "[encoded data removed]"
          },
          "metadata": {},
          "execution_count": 122
        },
        {
          "output_type": "display_data",
          "data": {
            "text/plain": [
              "<Figure size 432x288 with 1 Axes>"
            ],
            "image/png": "[encoded data removed]"
          },
          "metadata": {
            "needs_background": "light"
          }
        }
      ]
    },
    {
      "cell_type": "markdown",
      "metadata": {
        "id": "2pPz_sqlMael"
      },
      "source": [
        "looks like we could even continue training for a few more epochs!\n",
        "\n",
        "But before that let's again look at a few examples as we did earlier and compare the model's output."
      ]
    },
    {
      "cell_type": "code",
      "execution_count": 123,
      "metadata": {
        "colab": {
          "base_uri": "https://localhost:8080/"
        },
        "id": "svwzsLi_Mael",
        "outputId": "924bb3d0-25f6-47a9-efd5-8a4c4d514934"
      },
      "outputs": [
        {
          "output_type": "stream",
          "name": "stderr",
          "text": [
            "<ipython-input-116-6c2218f37724>:17: UserWarning: Implicit dimension choice for log_softmax has been deprecated. Change the call to include dim=X as an argument.\n",
            "  return F.log_softmax(x)\n"
          ]
        }
      ],
      "source": [
        "with torch.no_grad():\n",
        "  output = network(example_data)"
      ]
    },
    {
      "cell_type": "code",
      "execution_count": 124,
      "metadata": {
        "colab": {
          "base_uri": "https://localhost:8080/",
          "height": 551
        },
        "id": "OWRblwkjMaem",
        "outputId": "662c6670-5e59-451a-d47b-2cceaf112593"
      },
      "outputs": [
        {
          "output_type": "execute_result",
          "data": {
            "text/plain": [
              "<Figure size 432x288 with 6 Axes>"
            ],
            "image/png": "[encoded data removed]"
          },
          "metadata": {},
          "execution_count": 124
        },
        {
          "output_type": "display_data",
          "data": {
            "text/plain": [
              "<Figure size 432x288 with 6 Axes>"
            ],
            "image/png": "[encoded data removed]"
          },
          "metadata": {}
        }
      ],
      "source": [
        "fig = plt.figure()\n",
        "for i in range(6):\n",
        "  plt.subplot(2,3,i+1)\n",
        "  plt.tight_layout()\n",
        "  plt.imshow(example_data[i][0], cmap='gray', interpolation='none')\n",
        "  plt.title(\"Prediction: {}\".format(\n",
        "    output.data.max(1, keepdim=True)[1][i].item()))\n",
        "  plt.xticks([])\n",
        "  plt.yticks([])\n",
        "fig"
      ]
    },
    {
      "cell_type": "markdown",
      "metadata": {
        "id": "syBv49lEMaem"
      },
      "source": [
        "Continued Training from Checkpoints\n",
        "\n",
        "Now let's continue training the network, or rather see how we can continue training from the state_dicts we saved during our first training run. We'll initialize a new set of network and optimizers."
      ]
    },
    {
      "cell_type": "code",
      "execution_count": 125,
      "metadata": {
        "id": "IZGnIXD-Maem"
      },
      "outputs": [],
      "source": [
        "continued_network = Net()\n",
        "continued_optimizer = optim.SGD(network.parameters(), lr=learning_rate,\n",
        "                                momentum=momentum)"
      ]
    },
    {
      "cell_type": "markdown",
      "metadata": {
        "id": "xcCtpQaDMaem"
      },
      "source": [
        "Using .load_state_dict() we can now load the internal state of the network and optimizer when we last saved them."
      ]
    },
    {
      "cell_type": "code",
      "execution_count": 127,
      "metadata": {
        "id": "-BR6Cz_7Maem"
      },
      "outputs": [],
      "source": [
        "network_state_dict = torch.load('model.pth')\n",
        "continued_network.load_state_dict(network_state_dict)\n",
        "\n",
        "optimizer_state_dict = torch.load('optimizer.pth')\n",
        "continued_optimizer.load_state_dict(optimizer_state_dict)"
      ]
    },
    {
      "cell_type": "code",
      "source": [
        "!pip install pyyaml==5.4"
      ],
      "metadata": {
        "colab": {
          "base_uri": "https://localhost:8080/"
        },
        "id": "SfcjCAyBO3Bf",
        "outputId": "ad8a9a75-4a4e-493c-b691-93e5fec3b585"
      },
      "execution_count": 93,
      "outputs": [
        {
          "output_type": "stream",
          "name": "stdout",
          "text": [
            "Looking in indexes: https://pypi.org/simple, https://us-python.pkg.dev/colab-wheels/public/simple/\n",
            "Collecting pyyaml==5.4\n",
            "  Downloading PyYAML-5.4-cp38-cp38-manylinux1_x86_64.whl (662 kB)\n",
            "\u001b[K     |████████████████████████████████| 662 kB 4.7 MB/s \n",
            "\u001b[?25hInstalling collected packages: pyyaml\n",
            "  Attempting uninstall: pyyaml\n",
            "    Found existing installation: PyYAML 5.3.1\n",
            "    Uninstalling PyYAML-5.3.1:\n",
            "      Successfully uninstalled PyYAML-5.3.1\n",
            "Successfully installed pyyaml-5.4\n"
          ]
        }
      ]
    },
    {
      "cell_type": "markdown",
      "metadata": {
        "id": "BDfdhnfoMaem"
      },
      "source": [
        "Again running a training loop should immediately pick up the training where we left it. To check on that let's simply use the same lists as before to keep track of the loss values. Due to the way we constructed the test counter for the number of training examples seen we manually have to append to it here."
      ]
    },
    {
      "cell_type": "code",
      "execution_count": 128,
      "metadata": {
        "colab": {
          "base_uri": "https://localhost:8080/"
        },
        "id": "BCf6XWAcMaem",
        "outputId": "b018b7e7-9903-48b6-b7e7-1121d42b7063"
      },
      "outputs": [
        {
          "output_type": "stream",
          "name": "stderr",
          "text": [
            "<ipython-input-116-6c2218f37724>:17: UserWarning: Implicit dimension choice for log_softmax has been deprecated. Change the call to include dim=X as an argument.\n",
            "  return F.log_softmax(x)\n"
          ]
        },
        {
          "output_type": "stream",
          "name": "stdout",
          "text": [
            "Train Epoch: 4 [0/60000 (0%)]\tLoss: 0.208578\n",
            "Train Epoch: 4 [640/60000 (1%)]\tLoss: 0.362787\n",
            "Train Epoch: 4 [1280/60000 (2%)]\tLoss: 0.333615\n",
            "Train Epoch: 4 [1920/60000 (3%)]\tLoss: 0.426016\n",
            "Train Epoch: 4 [2560/60000 (4%)]\tLoss: 0.480444\n",
            "Train Epoch: 4 [3200/60000 (5%)]\tLoss: 0.132955\n",
            "Train Epoch: 4 [3840/60000 (6%)]\tLoss: 0.287925\n",
            "Train Epoch: 4 [4480/60000 (7%)]\tLoss: 0.335721\n",
            "Train Epoch: 4 [5120/60000 (9%)]\tLoss: 0.147954\n",
            "Train Epoch: 4 [5760/60000 (10%)]\tLoss: 0.196418\n",
            "Train Epoch: 4 [6400/60000 (11%)]\tLoss: 0.154988\n",
            "Train Epoch: 4 [7040/60000 (12%)]\tLoss: 0.164102\n",
            "Train Epoch: 4 [7680/60000 (13%)]\tLoss: 0.217753\n",
            "Train Epoch: 4 [8320/60000 (14%)]\tLoss: 0.395624\n",
            "Train Epoch: 4 [8960/60000 (15%)]\tLoss: 0.450458\n",
            "Train Epoch: 4 [9600/60000 (16%)]\tLoss: 0.152898\n",
            "Train Epoch: 4 [10240/60000 (17%)]\tLoss: 0.150686\n",
            "Train Epoch: 4 [10880/60000 (18%)]\tLoss: 0.467977\n",
            "Train Epoch: 4 [11520/60000 (19%)]\tLoss: 0.139718\n",
            "Train Epoch: 4 [12160/60000 (20%)]\tLoss: 0.232057\n",
            "Train Epoch: 4 [12800/60000 (21%)]\tLoss: 0.300631\n",
            "Train Epoch: 4 [13440/60000 (22%)]\tLoss: 0.263591\n",
            "Train Epoch: 4 [14080/60000 (23%)]\tLoss: 0.331106\n",
            "Train Epoch: 4 [14720/60000 (25%)]\tLoss: 0.317614\n",
            "Train Epoch: 4 [15360/60000 (26%)]\tLoss: 0.129947\n",
            "Train Epoch: 4 [16000/60000 (27%)]\tLoss: 0.123777\n",
            "Train Epoch: 4 [16640/60000 (28%)]\tLoss: 0.191836\n",
            "Train Epoch: 4 [17280/60000 (29%)]\tLoss: 0.228445\n",
            "Train Epoch: 4 [17920/60000 (30%)]\tLoss: 0.384691\n",
            "Train Epoch: 4 [18560/60000 (31%)]\tLoss: 0.271932\n",
            "Train Epoch: 4 [19200/60000 (32%)]\tLoss: 0.326083\n",
            "Train Epoch: 4 [19840/60000 (33%)]\tLoss: 0.409565\n",
            "Train Epoch: 4 [20480/60000 (34%)]\tLoss: 0.195222\n",
            "Train Epoch: 4 [21120/60000 (35%)]\tLoss: 0.354473\n",
            "Train Epoch: 4 [21760/60000 (36%)]\tLoss: 0.054750\n",
            "Train Epoch: 4 [22400/60000 (37%)]\tLoss: 0.225647\n",
            "Train Epoch: 4 [23040/60000 (38%)]\tLoss: 0.294836\n",
            "Train Epoch: 4 [23680/60000 (39%)]\tLoss: 0.273968\n",
            "Train Epoch: 4 [24320/60000 (41%)]\tLoss: 0.160385\n",
            "Train Epoch: 4 [24960/60000 (42%)]\tLoss: 0.165030\n",
            "Train Epoch: 4 [25600/60000 (43%)]\tLoss: 0.382962\n",
            "Train Epoch: 4 [26240/60000 (44%)]\tLoss: 0.196966\n",
            "Train Epoch: 4 [26880/60000 (45%)]\tLoss: 0.339006\n",
            "Train Epoch: 4 [27520/60000 (46%)]\tLoss: 0.153043\n",
            "Train Epoch: 4 [28160/60000 (47%)]\tLoss: 0.325571\n",
            "Train Epoch: 4 [28800/60000 (48%)]\tLoss: 0.235366\n",
            "Train Epoch: 4 [29440/60000 (49%)]\tLoss: 0.205490\n",
            "Train Epoch: 4 [30080/60000 (50%)]\tLoss: 0.156352\n",
            "Train Epoch: 4 [30720/60000 (51%)]\tLoss: 0.223074\n",
            "Train Epoch: 4 [31360/60000 (52%)]\tLoss: 0.116983\n",
            "Train Epoch: 4 [32000/60000 (53%)]\tLoss: 0.206122\n",
            "Train Epoch: 4 [32640/60000 (54%)]\tLoss: 0.296152\n",
            "Train Epoch: 4 [33280/60000 (55%)]\tLoss: 0.162552\n",
            "Train Epoch: 4 [33920/60000 (57%)]\tLoss: 0.381575\n",
            "Train Epoch: 4 [34560/60000 (58%)]\tLoss: 0.251014\n",
            "Train Epoch: 4 [35200/60000 (59%)]\tLoss: 0.134051\n",
            "Train Epoch: 4 [35840/60000 (60%)]\tLoss: 0.265052\n",
            "Train Epoch: 4 [36480/60000 (61%)]\tLoss: 0.157199\n",
            "Train Epoch: 4 [37120/60000 (62%)]\tLoss: 0.197327\n",
            "Train Epoch: 4 [37760/60000 (63%)]\tLoss: 0.302704\n",
            "Train Epoch: 4 [38400/60000 (64%)]\tLoss: 0.201688\n",
            "Train Epoch: 4 [39040/60000 (65%)]\tLoss: 0.136766\n",
            "Train Epoch: 4 [39680/60000 (66%)]\tLoss: 0.182527\n",
            "Train Epoch: 4 [40320/60000 (67%)]\tLoss: 0.315352\n",
            "Train Epoch: 4 [40960/60000 (68%)]\tLoss: 0.217297\n",
            "Train Epoch: 4 [41600/60000 (69%)]\tLoss: 0.133155\n",
            "Train Epoch: 4 [42240/60000 (70%)]\tLoss: 0.286802\n",
            "Train Epoch: 4 [42880/60000 (71%)]\tLoss: 0.271483\n",
            "Train Epoch: 4 [43520/60000 (72%)]\tLoss: 0.285880\n",
            "Train Epoch: 4 [44160/60000 (74%)]\tLoss: 0.326507\n",
            "Train Epoch: 4 [44800/60000 (75%)]\tLoss: 0.265394\n",
            "Train Epoch: 4 [45440/60000 (76%)]\tLoss: 0.222203\n",
            "Train Epoch: 4 [46080/60000 (77%)]\tLoss: 0.169798\n",
            "Train Epoch: 4 [46720/60000 (78%)]\tLoss: 0.335660\n",
            "Train Epoch: 4 [47360/60000 (79%)]\tLoss: 0.140991\n",
            "Train Epoch: 4 [48000/60000 (80%)]\tLoss: 0.308965\n",
            "Train Epoch: 4 [48640/60000 (81%)]\tLoss: 0.401978\n",
            "Train Epoch: 4 [49280/60000 (82%)]\tLoss: 0.169517\n",
            "Train Epoch: 4 [49920/60000 (83%)]\tLoss: 0.291058\n",
            "Train Epoch: 4 [50560/60000 (84%)]\tLoss: 0.223095\n",
            "Train Epoch: 4 [51200/60000 (85%)]\tLoss: 0.348178\n",
            "Train Epoch: 4 [51840/60000 (86%)]\tLoss: 0.241048\n",
            "Train Epoch: 4 [52480/60000 (87%)]\tLoss: 0.145178\n",
            "Train Epoch: 4 [53120/60000 (88%)]\tLoss: 0.250698\n",
            "Train Epoch: 4 [53760/60000 (90%)]\tLoss: 0.285269\n",
            "Train Epoch: 4 [54400/60000 (91%)]\tLoss: 0.313555\n",
            "Train Epoch: 4 [55040/60000 (92%)]\tLoss: 0.324487\n",
            "Train Epoch: 4 [55680/60000 (93%)]\tLoss: 0.318427\n",
            "Train Epoch: 4 [56320/60000 (94%)]\tLoss: 0.249092\n",
            "Train Epoch: 4 [56960/60000 (95%)]\tLoss: 0.216000\n",
            "Train Epoch: 4 [57600/60000 (96%)]\tLoss: 0.210514\n",
            "Train Epoch: 4 [58240/60000 (97%)]\tLoss: 0.198659\n",
            "Train Epoch: 4 [58880/60000 (98%)]\tLoss: 0.284052\n",
            "Train Epoch: 4 [59520/60000 (99%)]\tLoss: 0.262529\n",
            "\n",
            "Test set: Avg. loss: 0.0807, Accuracy: 9736/10000 (97%)\n",
            "\n",
            "Train Epoch: 5 [0/60000 (0%)]\tLoss: 0.707349\n",
            "Train Epoch: 5 [640/60000 (1%)]\tLoss: 0.274501\n",
            "Train Epoch: 5 [1280/60000 (2%)]\tLoss: 0.412278\n",
            "Train Epoch: 5 [1920/60000 (3%)]\tLoss: 0.288419\n",
            "Train Epoch: 5 [2560/60000 (4%)]\tLoss: 0.102310\n",
            "Train Epoch: 5 [3200/60000 (5%)]\tLoss: 0.244663\n",
            "Train Epoch: 5 [3840/60000 (6%)]\tLoss: 0.211547\n",
            "Train Epoch: 5 [4480/60000 (7%)]\tLoss: 0.183675\n",
            "Train Epoch: 5 [5120/60000 (9%)]\tLoss: 0.182193\n",
            "Train Epoch: 5 [5760/60000 (10%)]\tLoss: 0.278443\n",
            "Train Epoch: 5 [6400/60000 (11%)]\tLoss: 0.208988\n",
            "Train Epoch: 5 [7040/60000 (12%)]\tLoss: 0.218409\n",
            "Train Epoch: 5 [7680/60000 (13%)]\tLoss: 0.158287\n",
            "Train Epoch: 5 [8320/60000 (14%)]\tLoss: 0.222741\n",
            "Train Epoch: 5 [8960/60000 (15%)]\tLoss: 0.196878\n",
            "Train Epoch: 5 [9600/60000 (16%)]\tLoss: 0.393042\n",
            "Train Epoch: 5 [10240/60000 (17%)]\tLoss: 0.386155\n",
            "Train Epoch: 5 [10880/60000 (18%)]\tLoss: 0.400747\n",
            "Train Epoch: 5 [11520/60000 (19%)]\tLoss: 0.220410\n",
            "Train Epoch: 5 [12160/60000 (20%)]\tLoss: 0.104328\n",
            "Train Epoch: 5 [12800/60000 (21%)]\tLoss: 0.299817\n",
            "Train Epoch: 5 [13440/60000 (22%)]\tLoss: 0.300288\n",
            "Train Epoch: 5 [14080/60000 (23%)]\tLoss: 0.216314\n",
            "Train Epoch: 5 [14720/60000 (25%)]\tLoss: 0.237719\n",
            "Train Epoch: 5 [15360/60000 (26%)]\tLoss: 0.121378\n",
            "Train Epoch: 5 [16000/60000 (27%)]\tLoss: 0.183135\n",
            "Train Epoch: 5 [16640/60000 (28%)]\tLoss: 0.318691\n",
            "Train Epoch: 5 [17280/60000 (29%)]\tLoss: 0.132376\n",
            "Train Epoch: 5 [17920/60000 (30%)]\tLoss: 0.184133\n",
            "Train Epoch: 5 [18560/60000 (31%)]\tLoss: 0.083866\n",
            "Train Epoch: 5 [19200/60000 (32%)]\tLoss: 0.221463\n",
            "Train Epoch: 5 [19840/60000 (33%)]\tLoss: 0.288195\n",
            "Train Epoch: 5 [20480/60000 (34%)]\tLoss: 0.150714\n",
            "Train Epoch: 5 [21120/60000 (35%)]\tLoss: 0.282556\n",
            "Train Epoch: 5 [21760/60000 (36%)]\tLoss: 0.259756\n",
            "Train Epoch: 5 [22400/60000 (37%)]\tLoss: 0.113746\n",
            "Train Epoch: 5 [23040/60000 (38%)]\tLoss: 0.299225\n",
            "Train Epoch: 5 [23680/60000 (39%)]\tLoss: 0.148002\n",
            "Train Epoch: 5 [24320/60000 (41%)]\tLoss: 0.108224\n",
            "Train Epoch: 5 [24960/60000 (42%)]\tLoss: 0.281101\n",
            "Train Epoch: 5 [25600/60000 (43%)]\tLoss: 0.102208\n",
            "Train Epoch: 5 [26240/60000 (44%)]\tLoss: 0.180807\n",
            "Train Epoch: 5 [26880/60000 (45%)]\tLoss: 0.318258\n",
            "Train Epoch: 5 [27520/60000 (46%)]\tLoss: 0.206643\n",
            "Train Epoch: 5 [28160/60000 (47%)]\tLoss: 0.110158\n",
            "Train Epoch: 5 [28800/60000 (48%)]\tLoss: 0.138769\n",
            "Train Epoch: 5 [29440/60000 (49%)]\tLoss: 0.307361\n",
            "Train Epoch: 5 [30080/60000 (50%)]\tLoss: 0.145245\n",
            "Train Epoch: 5 [30720/60000 (51%)]\tLoss: 0.185485\n",
            "Train Epoch: 5 [31360/60000 (52%)]\tLoss: 0.408494\n",
            "Train Epoch: 5 [32000/60000 (53%)]\tLoss: 0.281574\n",
            "Train Epoch: 5 [32640/60000 (54%)]\tLoss: 0.267203\n",
            "Train Epoch: 5 [33280/60000 (55%)]\tLoss: 0.184591\n",
            "Train Epoch: 5 [33920/60000 (57%)]\tLoss: 0.225030\n",
            "Train Epoch: 5 [34560/60000 (58%)]\tLoss: 0.131679\n",
            "Train Epoch: 5 [35200/60000 (59%)]\tLoss: 0.174619\n",
            "Train Epoch: 5 [35840/60000 (60%)]\tLoss: 0.241301\n",
            "Train Epoch: 5 [36480/60000 (61%)]\tLoss: 0.081251\n",
            "Train Epoch: 5 [37120/60000 (62%)]\tLoss: 0.124387\n",
            "Train Epoch: 5 [37760/60000 (63%)]\tLoss: 0.133855\n",
            "Train Epoch: 5 [38400/60000 (64%)]\tLoss: 0.177077\n",
            "Train Epoch: 5 [39040/60000 (65%)]\tLoss: 0.613021\n",
            "Train Epoch: 5 [39680/60000 (66%)]\tLoss: 0.265600\n",
            "Train Epoch: 5 [40320/60000 (67%)]\tLoss: 0.133602\n",
            "Train Epoch: 5 [40960/60000 (68%)]\tLoss: 0.161986\n",
            "Train Epoch: 5 [41600/60000 (69%)]\tLoss: 0.223559\n",
            "Train Epoch: 5 [42240/60000 (70%)]\tLoss: 0.219507\n",
            "Train Epoch: 5 [42880/60000 (71%)]\tLoss: 0.229668\n",
            "Train Epoch: 5 [43520/60000 (72%)]\tLoss: 0.292305\n",
            "Train Epoch: 5 [44160/60000 (74%)]\tLoss: 0.114959\n",
            "Train Epoch: 5 [44800/60000 (75%)]\tLoss: 0.435710\n",
            "Train Epoch: 5 [45440/60000 (76%)]\tLoss: 0.237271\n",
            "Train Epoch: 5 [46080/60000 (77%)]\tLoss: 0.212488\n",
            "Train Epoch: 5 [46720/60000 (78%)]\tLoss: 0.260953\n",
            "Train Epoch: 5 [47360/60000 (79%)]\tLoss: 0.185701\n",
            "Train Epoch: 5 [48000/60000 (80%)]\tLoss: 0.316645\n",
            "Train Epoch: 5 [48640/60000 (81%)]\tLoss: 0.254743\n",
            "Train Epoch: 5 [49280/60000 (82%)]\tLoss: 0.194372\n",
            "Train Epoch: 5 [49920/60000 (83%)]\tLoss: 0.366578\n",
            "Train Epoch: 5 [50560/60000 (84%)]\tLoss: 0.097503\n",
            "Train Epoch: 5 [51200/60000 (85%)]\tLoss: 0.332696\n",
            "Train Epoch: 5 [51840/60000 (86%)]\tLoss: 0.151951\n",
            "Train Epoch: 5 [52480/60000 (87%)]\tLoss: 0.283455\n",
            "Train Epoch: 5 [53120/60000 (88%)]\tLoss: 0.098014\n",
            "Train Epoch: 5 [53760/60000 (90%)]\tLoss: 0.134914\n",
            "Train Epoch: 5 [54400/60000 (91%)]\tLoss: 0.097238\n",
            "Train Epoch: 5 [55040/60000 (92%)]\tLoss: 0.276276\n",
            "Train Epoch: 5 [55680/60000 (93%)]\tLoss: 0.159454\n",
            "Train Epoch: 5 [56320/60000 (94%)]\tLoss: 0.176569\n",
            "Train Epoch: 5 [56960/60000 (95%)]\tLoss: 0.338637\n",
            "Train Epoch: 5 [57600/60000 (96%)]\tLoss: 0.299454\n",
            "Train Epoch: 5 [58240/60000 (97%)]\tLoss: 0.197498\n",
            "Train Epoch: 5 [58880/60000 (98%)]\tLoss: 0.153603\n",
            "Train Epoch: 5 [59520/60000 (99%)]\tLoss: 0.116197\n",
            "\n",
            "Test set: Avg. loss: 0.0726, Accuracy: 9766/10000 (98%)\n",
            "\n",
            "Train Epoch: 6 [0/60000 (0%)]\tLoss: 0.314344\n",
            "Train Epoch: 6 [640/60000 (1%)]\tLoss: 0.400636\n",
            "Train Epoch: 6 [1280/60000 (2%)]\tLoss: 0.335741\n",
            "Train Epoch: 6 [1920/60000 (3%)]\tLoss: 0.135737\n",
            "Train Epoch: 6 [2560/60000 (4%)]\tLoss: 0.171924\n",
            "Train Epoch: 6 [3200/60000 (5%)]\tLoss: 0.264147\n",
            "Train Epoch: 6 [3840/60000 (6%)]\tLoss: 0.284754\n",
            "Train Epoch: 6 [4480/60000 (7%)]\tLoss: 0.289883\n",
            "Train Epoch: 6 [5120/60000 (9%)]\tLoss: 0.144359\n",
            "Train Epoch: 6 [5760/60000 (10%)]\tLoss: 0.215965\n",
            "Train Epoch: 6 [6400/60000 (11%)]\tLoss: 0.249080\n",
            "Train Epoch: 6 [7040/60000 (12%)]\tLoss: 0.282624\n",
            "Train Epoch: 6 [7680/60000 (13%)]\tLoss: 0.286327\n",
            "Train Epoch: 6 [8320/60000 (14%)]\tLoss: 0.165290\n",
            "Train Epoch: 6 [8960/60000 (15%)]\tLoss: 0.186672\n",
            "Train Epoch: 6 [9600/60000 (16%)]\tLoss: 0.278534\n",
            "Train Epoch: 6 [10240/60000 (17%)]\tLoss: 0.253762\n",
            "Train Epoch: 6 [10880/60000 (18%)]\tLoss: 0.211023\n",
            "Train Epoch: 6 [11520/60000 (19%)]\tLoss: 0.241411\n",
            "Train Epoch: 6 [12160/60000 (20%)]\tLoss: 0.163761\n",
            "Train Epoch: 6 [12800/60000 (21%)]\tLoss: 0.262049\n",
            "Train Epoch: 6 [13440/60000 (22%)]\tLoss: 0.191879\n",
            "Train Epoch: 6 [14080/60000 (23%)]\tLoss: 0.111205\n",
            "Train Epoch: 6 [14720/60000 (25%)]\tLoss: 0.238713\n",
            "Train Epoch: 6 [15360/60000 (26%)]\tLoss: 0.104194\n",
            "Train Epoch: 6 [16000/60000 (27%)]\tLoss: 0.228222\n",
            "Train Epoch: 6 [16640/60000 (28%)]\tLoss: 0.250082\n",
            "Train Epoch: 6 [17280/60000 (29%)]\tLoss: 0.337104\n",
            "Train Epoch: 6 [17920/60000 (30%)]\tLoss: 0.110721\n",
            "Train Epoch: 6 [18560/60000 (31%)]\tLoss: 0.457633\n",
            "Train Epoch: 6 [19200/60000 (32%)]\tLoss: 0.460962\n",
            "Train Epoch: 6 [19840/60000 (33%)]\tLoss: 0.236966\n",
            "Train Epoch: 6 [20480/60000 (34%)]\tLoss: 0.175392\n",
            "Train Epoch: 6 [21120/60000 (35%)]\tLoss: 0.179558\n",
            "Train Epoch: 6 [21760/60000 (36%)]\tLoss: 0.307425\n",
            "Train Epoch: 6 [22400/60000 (37%)]\tLoss: 0.329345\n",
            "Train Epoch: 6 [23040/60000 (38%)]\tLoss: 0.286549\n",
            "Train Epoch: 6 [23680/60000 (39%)]\tLoss: 0.041524\n",
            "Train Epoch: 6 [24320/60000 (41%)]\tLoss: 0.249131\n",
            "Train Epoch: 6 [24960/60000 (42%)]\tLoss: 0.156515\n",
            "Train Epoch: 6 [25600/60000 (43%)]\tLoss: 0.437628\n",
            "Train Epoch: 6 [26240/60000 (44%)]\tLoss: 0.232240\n",
            "Train Epoch: 6 [26880/60000 (45%)]\tLoss: 0.425089\n",
            "Train Epoch: 6 [27520/60000 (46%)]\tLoss: 0.165879\n",
            "Train Epoch: 6 [28160/60000 (47%)]\tLoss: 0.180468\n",
            "Train Epoch: 6 [28800/60000 (48%)]\tLoss: 0.324181\n",
            "Train Epoch: 6 [29440/60000 (49%)]\tLoss: 0.259196\n",
            "Train Epoch: 6 [30080/60000 (50%)]\tLoss: 0.289371\n",
            "Train Epoch: 6 [30720/60000 (51%)]\tLoss: 0.095847\n",
            "Train Epoch: 6 [31360/60000 (52%)]\tLoss: 0.356356\n",
            "Train Epoch: 6 [32000/60000 (53%)]\tLoss: 0.165725\n",
            "Train Epoch: 6 [32640/60000 (54%)]\tLoss: 0.250016\n",
            "Train Epoch: 6 [33280/60000 (55%)]\tLoss: 0.169307\n",
            "Train Epoch: 6 [33920/60000 (57%)]\tLoss: 0.194852\n",
            "Train Epoch: 6 [34560/60000 (58%)]\tLoss: 0.328899\n",
            "Train Epoch: 6 [35200/60000 (59%)]\tLoss: 0.171185\n",
            "Train Epoch: 6 [35840/60000 (60%)]\tLoss: 0.219560\n",
            "Train Epoch: 6 [36480/60000 (61%)]\tLoss: 0.162808\n",
            "Train Epoch: 6 [37120/60000 (62%)]\tLoss: 0.154660\n",
            "Train Epoch: 6 [37760/60000 (63%)]\tLoss: 0.359335\n",
            "Train Epoch: 6 [38400/60000 (64%)]\tLoss: 0.103963\n",
            "Train Epoch: 6 [39040/60000 (65%)]\tLoss: 0.101577\n",
            "Train Epoch: 6 [39680/60000 (66%)]\tLoss: 0.251803\n",
            "Train Epoch: 6 [40320/60000 (67%)]\tLoss: 0.135592\n",
            "Train Epoch: 6 [40960/60000 (68%)]\tLoss: 0.210497\n",
            "Train Epoch: 6 [41600/60000 (69%)]\tLoss: 0.164084\n",
            "Train Epoch: 6 [42240/60000 (70%)]\tLoss: 0.396834\n",
            "Train Epoch: 6 [42880/60000 (71%)]\tLoss: 0.249121\n",
            "Train Epoch: 6 [43520/60000 (72%)]\tLoss: 0.160629\n",
            "Train Epoch: 6 [44160/60000 (74%)]\tLoss: 0.121761\n",
            "Train Epoch: 6 [44800/60000 (75%)]\tLoss: 0.171394\n",
            "Train Epoch: 6 [45440/60000 (76%)]\tLoss: 0.266138\n",
            "Train Epoch: 6 [46080/60000 (77%)]\tLoss: 0.223915\n",
            "Train Epoch: 6 [46720/60000 (78%)]\tLoss: 0.222961\n",
            "Train Epoch: 6 [47360/60000 (79%)]\tLoss: 0.158397\n",
            "Train Epoch: 6 [48000/60000 (80%)]\tLoss: 0.182291\n",
            "Train Epoch: 6 [48640/60000 (81%)]\tLoss: 0.137027\n",
            "Train Epoch: 6 [49280/60000 (82%)]\tLoss: 0.044734\n",
            "Train Epoch: 6 [49920/60000 (83%)]\tLoss: 0.161046\n",
            "Train Epoch: 6 [50560/60000 (84%)]\tLoss: 0.206575\n",
            "Train Epoch: 6 [51200/60000 (85%)]\tLoss: 0.109559\n",
            "Train Epoch: 6 [51840/60000 (86%)]\tLoss: 0.150346\n",
            "Train Epoch: 6 [52480/60000 (87%)]\tLoss: 0.304379\n",
            "Train Epoch: 6 [53120/60000 (88%)]\tLoss: 0.179841\n",
            "Train Epoch: 6 [53760/60000 (90%)]\tLoss: 0.304273\n",
            "Train Epoch: 6 [54400/60000 (91%)]\tLoss: 0.150302\n",
            "Train Epoch: 6 [55040/60000 (92%)]\tLoss: 0.320650\n",
            "Train Epoch: 6 [55680/60000 (93%)]\tLoss: 0.169241\n",
            "Train Epoch: 6 [56320/60000 (94%)]\tLoss: 0.359843\n",
            "Train Epoch: 6 [56960/60000 (95%)]\tLoss: 0.444464\n",
            "Train Epoch: 6 [57600/60000 (96%)]\tLoss: 0.226852\n",
            "Train Epoch: 6 [58240/60000 (97%)]\tLoss: 0.132541\n",
            "Train Epoch: 6 [58880/60000 (98%)]\tLoss: 0.162285\n",
            "Train Epoch: 6 [59520/60000 (99%)]\tLoss: 0.148960\n",
            "\n",
            "Test set: Avg. loss: 0.0679, Accuracy: 9781/10000 (98%)\n",
            "\n",
            "Train Epoch: 7 [0/60000 (0%)]\tLoss: 0.342050\n",
            "Train Epoch: 7 [640/60000 (1%)]\tLoss: 0.238705\n",
            "Train Epoch: 7 [1280/60000 (2%)]\tLoss: 0.434760\n",
            "Train Epoch: 7 [1920/60000 (3%)]\tLoss: 0.187364\n",
            "Train Epoch: 7 [2560/60000 (4%)]\tLoss: 0.097042\n",
            "Train Epoch: 7 [3200/60000 (5%)]\tLoss: 0.145823\n",
            "Train Epoch: 7 [3840/60000 (6%)]\tLoss: 0.148433\n",
            "Train Epoch: 7 [4480/60000 (7%)]\tLoss: 0.116500\n",
            "Train Epoch: 7 [5120/60000 (9%)]\tLoss: 0.177622\n",
            "Train Epoch: 7 [5760/60000 (10%)]\tLoss: 0.274625\n",
            "Train Epoch: 7 [6400/60000 (11%)]\tLoss: 0.247582\n",
            "Train Epoch: 7 [7040/60000 (12%)]\tLoss: 0.228669\n",
            "Train Epoch: 7 [7680/60000 (13%)]\tLoss: 0.138002\n",
            "Train Epoch: 7 [8320/60000 (14%)]\tLoss: 0.297066\n",
            "Train Epoch: 7 [8960/60000 (15%)]\tLoss: 0.170705\n",
            "Train Epoch: 7 [9600/60000 (16%)]\tLoss: 0.307352\n",
            "Train Epoch: 7 [10240/60000 (17%)]\tLoss: 0.184133\n",
            "Train Epoch: 7 [10880/60000 (18%)]\tLoss: 0.472363\n",
            "Train Epoch: 7 [11520/60000 (19%)]\tLoss: 0.316248\n",
            "Train Epoch: 7 [12160/60000 (20%)]\tLoss: 0.128276\n",
            "Train Epoch: 7 [12800/60000 (21%)]\tLoss: 0.163019\n",
            "Train Epoch: 7 [13440/60000 (22%)]\tLoss: 0.092785\n",
            "Train Epoch: 7 [14080/60000 (23%)]\tLoss: 0.079466\n",
            "Train Epoch: 7 [14720/60000 (25%)]\tLoss: 0.274037\n",
            "Train Epoch: 7 [15360/60000 (26%)]\tLoss: 0.120909\n",
            "Train Epoch: 7 [16000/60000 (27%)]\tLoss: 0.117858\n",
            "Train Epoch: 7 [16640/60000 (28%)]\tLoss: 0.095068\n",
            "Train Epoch: 7 [17280/60000 (29%)]\tLoss: 0.093734\n",
            "Train Epoch: 7 [17920/60000 (30%)]\tLoss: 0.113654\n",
            "Train Epoch: 7 [18560/60000 (31%)]\tLoss: 0.144594\n",
            "Train Epoch: 7 [19200/60000 (32%)]\tLoss: 0.213319\n",
            "Train Epoch: 7 [19840/60000 (33%)]\tLoss: 0.216830\n",
            "Train Epoch: 7 [20480/60000 (34%)]\tLoss: 0.138711\n",
            "Train Epoch: 7 [21120/60000 (35%)]\tLoss: 0.277557\n",
            "Train Epoch: 7 [21760/60000 (36%)]\tLoss: 0.115719\n",
            "Train Epoch: 7 [22400/60000 (37%)]\tLoss: 0.118944\n",
            "Train Epoch: 7 [23040/60000 (38%)]\tLoss: 0.254263\n",
            "Train Epoch: 7 [23680/60000 (39%)]\tLoss: 0.424379\n",
            "Train Epoch: 7 [24320/60000 (41%)]\tLoss: 0.224619\n",
            "Train Epoch: 7 [24960/60000 (42%)]\tLoss: 0.331214\n",
            "Train Epoch: 7 [25600/60000 (43%)]\tLoss: 0.195565\n",
            "Train Epoch: 7 [26240/60000 (44%)]\tLoss: 0.101594\n",
            "Train Epoch: 7 [26880/60000 (45%)]\tLoss: 0.274364\n",
            "Train Epoch: 7 [27520/60000 (46%)]\tLoss: 0.173347\n",
            "Train Epoch: 7 [28160/60000 (47%)]\tLoss: 0.328245\n",
            "Train Epoch: 7 [28800/60000 (48%)]\tLoss: 0.284039\n",
            "Train Epoch: 7 [29440/60000 (49%)]\tLoss: 0.132823\n",
            "Train Epoch: 7 [30080/60000 (50%)]\tLoss: 0.049390\n",
            "Train Epoch: 7 [30720/60000 (51%)]\tLoss: 0.136542\n",
            "Train Epoch: 7 [31360/60000 (52%)]\tLoss: 0.187573\n",
            "Train Epoch: 7 [32000/60000 (53%)]\tLoss: 0.267297\n",
            "Train Epoch: 7 [32640/60000 (54%)]\tLoss: 0.178343\n",
            "Train Epoch: 7 [33280/60000 (55%)]\tLoss: 0.146362\n",
            "Train Epoch: 7 [33920/60000 (57%)]\tLoss: 0.236751\n",
            "Train Epoch: 7 [34560/60000 (58%)]\tLoss: 0.176542\n",
            "Train Epoch: 7 [35200/60000 (59%)]\tLoss: 0.177463\n",
            "Train Epoch: 7 [35840/60000 (60%)]\tLoss: 0.267861\n",
            "Train Epoch: 7 [36480/60000 (61%)]\tLoss: 0.127520\n",
            "Train Epoch: 7 [37120/60000 (62%)]\tLoss: 0.131641\n",
            "Train Epoch: 7 [37760/60000 (63%)]\tLoss: 0.145313\n",
            "Train Epoch: 7 [38400/60000 (64%)]\tLoss: 0.240695\n",
            "Train Epoch: 7 [39040/60000 (65%)]\tLoss: 0.213055\n",
            "Train Epoch: 7 [39680/60000 (66%)]\tLoss: 0.244717\n",
            "Train Epoch: 7 [40320/60000 (67%)]\tLoss: 0.327842\n",
            "Train Epoch: 7 [40960/60000 (68%)]\tLoss: 0.339540\n",
            "Train Epoch: 7 [41600/60000 (69%)]\tLoss: 0.176096\n",
            "Train Epoch: 7 [42240/60000 (70%)]\tLoss: 0.234845\n",
            "Train Epoch: 7 [42880/60000 (71%)]\tLoss: 0.193243\n",
            "Train Epoch: 7 [43520/60000 (72%)]\tLoss: 0.191892\n",
            "Train Epoch: 7 [44160/60000 (74%)]\tLoss: 0.372099\n",
            "Train Epoch: 7 [44800/60000 (75%)]\tLoss: 0.171680\n",
            "Train Epoch: 7 [45440/60000 (76%)]\tLoss: 0.249074\n",
            "Train Epoch: 7 [46080/60000 (77%)]\tLoss: 0.153024\n",
            "Train Epoch: 7 [46720/60000 (78%)]\tLoss: 0.208801\n",
            "Train Epoch: 7 [47360/60000 (79%)]\tLoss: 0.228872\n",
            "Train Epoch: 7 [48000/60000 (80%)]\tLoss: 0.175637\n",
            "Train Epoch: 7 [48640/60000 (81%)]\tLoss: 0.235736\n",
            "Train Epoch: 7 [49280/60000 (82%)]\tLoss: 0.114481\n",
            "Train Epoch: 7 [49920/60000 (83%)]\tLoss: 0.045601\n",
            "Train Epoch: 7 [50560/60000 (84%)]\tLoss: 0.145421\n",
            "Train Epoch: 7 [51200/60000 (85%)]\tLoss: 0.198066\n",
            "Train Epoch: 7 [51840/60000 (86%)]\tLoss: 0.129118\n",
            "Train Epoch: 7 [52480/60000 (87%)]\tLoss: 0.200824\n",
            "Train Epoch: 7 [53120/60000 (88%)]\tLoss: 0.061927\n",
            "Train Epoch: 7 [53760/60000 (90%)]\tLoss: 0.158642\n",
            "Train Epoch: 7 [54400/60000 (91%)]\tLoss: 0.212984\n",
            "Train Epoch: 7 [55040/60000 (92%)]\tLoss: 0.268723\n",
            "Train Epoch: 7 [55680/60000 (93%)]\tLoss: 0.254775\n",
            "Train Epoch: 7 [56320/60000 (94%)]\tLoss: 0.467960\n",
            "Train Epoch: 7 [56960/60000 (95%)]\tLoss: 0.195748\n",
            "Train Epoch: 7 [57600/60000 (96%)]\tLoss: 0.270935\n",
            "Train Epoch: 7 [58240/60000 (97%)]\tLoss: 0.102408\n",
            "Train Epoch: 7 [58880/60000 (98%)]\tLoss: 0.054114\n",
            "Train Epoch: 7 [59520/60000 (99%)]\tLoss: 0.266450\n",
            "\n",
            "Test set: Avg. loss: 0.0613, Accuracy: 9807/10000 (98%)\n",
            "\n",
            "Train Epoch: 8 [0/60000 (0%)]\tLoss: 0.192162\n",
            "Train Epoch: 8 [640/60000 (1%)]\tLoss: 0.214400\n",
            "Train Epoch: 8 [1280/60000 (2%)]\tLoss: 0.186122\n",
            "Train Epoch: 8 [1920/60000 (3%)]\tLoss: 0.145195\n",
            "Train Epoch: 8 [2560/60000 (4%)]\tLoss: 0.249743\n",
            "Train Epoch: 8 [3200/60000 (5%)]\tLoss: 0.084075\n",
            "Train Epoch: 8 [3840/60000 (6%)]\tLoss: 0.076732\n",
            "Train Epoch: 8 [4480/60000 (7%)]\tLoss: 0.121597\n",
            "Train Epoch: 8 [5120/60000 (9%)]\tLoss: 0.243284\n",
            "Train Epoch: 8 [5760/60000 (10%)]\tLoss: 0.161183\n",
            "Train Epoch: 8 [6400/60000 (11%)]\tLoss: 0.139334\n",
            "Train Epoch: 8 [7040/60000 (12%)]\tLoss: 0.418183\n",
            "Train Epoch: 8 [7680/60000 (13%)]\tLoss: 0.275129\n",
            "Train Epoch: 8 [8320/60000 (14%)]\tLoss: 0.342403\n",
            "Train Epoch: 8 [8960/60000 (15%)]\tLoss: 0.280433\n",
            "Train Epoch: 8 [9600/60000 (16%)]\tLoss: 0.114851\n",
            "Train Epoch: 8 [10240/60000 (17%)]\tLoss: 0.133953\n",
            "Train Epoch: 8 [10880/60000 (18%)]\tLoss: 0.242260\n",
            "Train Epoch: 8 [11520/60000 (19%)]\tLoss: 0.216760\n",
            "Train Epoch: 8 [12160/60000 (20%)]\tLoss: 0.200974\n",
            "Train Epoch: 8 [12800/60000 (21%)]\tLoss: 0.178010\n",
            "Train Epoch: 8 [13440/60000 (22%)]\tLoss: 0.142888\n",
            "Train Epoch: 8 [14080/60000 (23%)]\tLoss: 0.373234\n",
            "Train Epoch: 8 [14720/60000 (25%)]\tLoss: 0.570163\n",
            "Train Epoch: 8 [15360/60000 (26%)]\tLoss: 0.192695\n",
            "Train Epoch: 8 [16000/60000 (27%)]\tLoss: 0.307605\n",
            "Train Epoch: 8 [16640/60000 (28%)]\tLoss: 0.090025\n",
            "Train Epoch: 8 [17280/60000 (29%)]\tLoss: 0.148471\n",
            "Train Epoch: 8 [17920/60000 (30%)]\tLoss: 0.107649\n",
            "Train Epoch: 8 [18560/60000 (31%)]\tLoss: 0.207567\n",
            "Train Epoch: 8 [19200/60000 (32%)]\tLoss: 0.149373\n",
            "Train Epoch: 8 [19840/60000 (33%)]\tLoss: 0.160116\n",
            "Train Epoch: 8 [20480/60000 (34%)]\tLoss: 0.114238\n",
            "Train Epoch: 8 [21120/60000 (35%)]\tLoss: 0.237142\n",
            "Train Epoch: 8 [21760/60000 (36%)]\tLoss: 0.167290\n",
            "Train Epoch: 8 [22400/60000 (37%)]\tLoss: 0.165538\n",
            "Train Epoch: 8 [23040/60000 (38%)]\tLoss: 0.125518\n",
            "Train Epoch: 8 [23680/60000 (39%)]\tLoss: 0.156338\n",
            "Train Epoch: 8 [24320/60000 (41%)]\tLoss: 0.066010\n",
            "Train Epoch: 8 [24960/60000 (42%)]\tLoss: 0.256675\n",
            "Train Epoch: 8 [25600/60000 (43%)]\tLoss: 0.223255\n",
            "Train Epoch: 8 [26240/60000 (44%)]\tLoss: 0.204603\n",
            "Train Epoch: 8 [26880/60000 (45%)]\tLoss: 0.247993\n",
            "Train Epoch: 8 [27520/60000 (46%)]\tLoss: 0.249742\n",
            "Train Epoch: 8 [28160/60000 (47%)]\tLoss: 0.128629\n",
            "Train Epoch: 8 [28800/60000 (48%)]\tLoss: 0.120733\n",
            "Train Epoch: 8 [29440/60000 (49%)]\tLoss: 0.112029\n",
            "Train Epoch: 8 [30080/60000 (50%)]\tLoss: 0.141567\n",
            "Train Epoch: 8 [30720/60000 (51%)]\tLoss: 0.047480\n",
            "Train Epoch: 8 [31360/60000 (52%)]\tLoss: 0.278839\n",
            "Train Epoch: 8 [32000/60000 (53%)]\tLoss: 0.170429\n",
            "Train Epoch: 8 [32640/60000 (54%)]\tLoss: 0.116194\n",
            "Train Epoch: 8 [33280/60000 (55%)]\tLoss: 0.280626\n",
            "Train Epoch: 8 [33920/60000 (57%)]\tLoss: 0.203221\n",
            "Train Epoch: 8 [34560/60000 (58%)]\tLoss: 0.246225\n",
            "Train Epoch: 8 [35200/60000 (59%)]\tLoss: 0.179098\n",
            "Train Epoch: 8 [35840/60000 (60%)]\tLoss: 0.339564\n",
            "Train Epoch: 8 [36480/60000 (61%)]\tLoss: 0.157488\n",
            "Train Epoch: 8 [37120/60000 (62%)]\tLoss: 0.216692\n",
            "Train Epoch: 8 [37760/60000 (63%)]\tLoss: 0.186526\n",
            "Train Epoch: 8 [38400/60000 (64%)]\tLoss: 0.170883\n",
            "Train Epoch: 8 [39040/60000 (65%)]\tLoss: 0.217110\n",
            "Train Epoch: 8 [39680/60000 (66%)]\tLoss: 0.141845\n",
            "Train Epoch: 8 [40320/60000 (67%)]\tLoss: 0.211678\n",
            "Train Epoch: 8 [40960/60000 (68%)]\tLoss: 0.150164\n",
            "Train Epoch: 8 [41600/60000 (69%)]\tLoss: 0.266006\n",
            "Train Epoch: 8 [42240/60000 (70%)]\tLoss: 0.267875\n",
            "Train Epoch: 8 [42880/60000 (71%)]\tLoss: 0.210220\n",
            "Train Epoch: 8 [43520/60000 (72%)]\tLoss: 0.189340\n",
            "Train Epoch: 8 [44160/60000 (74%)]\tLoss: 0.171085\n",
            "Train Epoch: 8 [44800/60000 (75%)]\tLoss: 0.342210\n",
            "Train Epoch: 8 [45440/60000 (76%)]\tLoss: 0.142213\n",
            "Train Epoch: 8 [46080/60000 (77%)]\tLoss: 0.130870\n",
            "Train Epoch: 8 [46720/60000 (78%)]\tLoss: 0.108688\n",
            "Train Epoch: 8 [47360/60000 (79%)]\tLoss: 0.144454\n",
            "Train Epoch: 8 [48000/60000 (80%)]\tLoss: 0.143825\n",
            "Train Epoch: 8 [48640/60000 (81%)]\tLoss: 0.129131\n",
            "Train Epoch: 8 [49280/60000 (82%)]\tLoss: 0.156662\n",
            "Train Epoch: 8 [49920/60000 (83%)]\tLoss: 0.336418\n",
            "Train Epoch: 8 [50560/60000 (84%)]\tLoss: 0.156666\n",
            "Train Epoch: 8 [51200/60000 (85%)]\tLoss: 0.092843\n",
            "Train Epoch: 8 [51840/60000 (86%)]\tLoss: 0.312602\n",
            "Train Epoch: 8 [52480/60000 (87%)]\tLoss: 0.135611\n",
            "Train Epoch: 8 [53120/60000 (88%)]\tLoss: 0.095757\n",
            "Train Epoch: 8 [53760/60000 (90%)]\tLoss: 0.306870\n",
            "Train Epoch: 8 [54400/60000 (91%)]\tLoss: 0.454542\n",
            "Train Epoch: 8 [55040/60000 (92%)]\tLoss: 0.057826\n",
            "Train Epoch: 8 [55680/60000 (93%)]\tLoss: 0.147365\n",
            "Train Epoch: 8 [56320/60000 (94%)]\tLoss: 0.087768\n",
            "Train Epoch: 8 [56960/60000 (95%)]\tLoss: 0.180131\n",
            "Train Epoch: 8 [57600/60000 (96%)]\tLoss: 0.175261\n",
            "Train Epoch: 8 [58240/60000 (97%)]\tLoss: 0.288106\n",
            "Train Epoch: 8 [58880/60000 (98%)]\tLoss: 0.081839\n",
            "Train Epoch: 8 [59520/60000 (99%)]\tLoss: 0.362502\n",
            "\n",
            "Test set: Avg. loss: 0.0573, Accuracy: 9815/10000 (98%)\n",
            "\n"
          ]
        }
      ],
      "source": [
        "for i in range(4,9):\n",
        "  test_counter.append(i*len(train_loader.dataset))\n",
        "  train(i)\n",
        "  test()"
      ]
    },
    {
      "cell_type": "markdown",
      "metadata": {
        "id": "_kTs2vnCMaen"
      },
      "source": [
        "Great! We again see a (much slower) increase in test set accuracy from epoch to epoch. Let's visualize this to further inspect the training progress."
      ]
    },
    {
      "cell_type": "code",
      "execution_count": 129,
      "metadata": {
        "colab": {
          "base_uri": "https://localhost:8080/",
          "height": 541
        },
        "id": "XNZgOQqdMaeo",
        "outputId": "d99e3df7-f4c9-4224-cc10-e2ee4252c80b"
      },
      "outputs": [
        {
          "output_type": "execute_result",
          "data": {
            "text/plain": [
              "<Figure size 432x288 with 1 Axes>"
            ],
            "image/png": "[encoded data removed]"
          },
          "metadata": {},
          "execution_count": 129
        },
        {
          "output_type": "display_data",
          "data": {
            "text/plain": [
              "<Figure size 432x288 with 1 Axes>"
            ],
            "image/png": "[encoded data removed]"
          },
          "metadata": {
            "needs_background": "light"
          }
        }
      ],
      "source": [
        "fig = plt.figure()\n",
        "plt.plot(train_counter, train_losses, color='blue')\n",
        "plt.scatter(test_counter, test_losses, color='red')\n",
        "plt.legend(['Train Loss', 'Test Loss'], loc='upper right')\n",
        "plt.xlabel('number of training examples seen')\n",
        "plt.ylabel('negative log likelihood loss')\n",
        "fig"
      ]
    },
    {
      "cell_type": "markdown",
      "metadata": {
        "id": "rQ9pJCwMMaeo"
      },
      "source": [
        "That still looks like a rather smooth learning curve just as if we initially would've trained for 8 epochs! Remember that we just appended values to the same lists starting from the 5th red dot onward.\n",
        "\n",
        "From this we can conclue two things:\n",
        "\n",
        "1. Continuing from the checkpointed internal state worked as intended.\n",
        "\n",
        "2. We still don't seem to run into overfitting issues! It looks like our dropout layers did a good job regularizing the model."
      ]
    },
    {
      "cell_type": "markdown",
      "metadata": {
        "id": "srQE-ybgMaeo"
      },
      "source": []
    }
  ],
  "metadata": {
    "kernelspec": {
      "display_name": "base",
      "language": "python",
      "name": "python3"
    },
    "language_info": {
      "codemirror_mode": {
        "name": "ipython",
        "version": 3
      },
      "file_extension": ".py",
      "mimetype": "text/x-python",
      "name": "python",
      "nbconvert_exporter": "python",
      "pygments_lexer": "ipython3",
      "version": "3.9.7 (default, Sep 16 2021, 16:59:28) [MSC v.1916 64 bit (AMD64)]"
    },
    "orig_nbformat": 4,
    "vscode": {
      "interpreter": {
        "hash": "3ce2397aef71c0d12f785fd87c0b7fef94ead8d2f4d1a9ae094c6557efed0fcb"
      }
    },
    "colab": {
      "provenance": []
    }
  },
  "nbformat": 4,
  "nbformat_minor": 0
}